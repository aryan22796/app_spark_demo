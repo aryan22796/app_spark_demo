{
 "cells": [
  {
   "cell_type": "code",
   "execution_count": 1,
   "id": "e5ce4717",
   "metadata": {},
   "outputs": [
    {
     "name": "stdout",
     "output_type": "stream",
     "text": [
      "Driver Memory: 1g\n",
      "Executor Memory: 2g\n",
      "Executor Cores: 2\n",
      "+-----+-----+\n",
      "| name|count|\n",
      "+-----+-----+\n",
      "|Alice|    1|\n",
      "|  Bob|    1|\n",
      "|Cathy|    1|\n",
      "|David|    1|\n",
      "+-----+-----+\n",
      "\n"
     ]
    }
   ],
   "source": [
    "\n",
    "from pyspark.sql import SparkSession\n",
    "\n",
    "spark = SparkSession.builder \\\n",
    "    .appName(\"Driver vs Executor Config Example\") \\\n",
    "    .config(\"spark.driver.memory\", \"1g\") \\\n",
    "    .config(\"spark.executor.memory\", \"2g\") \\\n",
    "    .config(\"spark.executor.cores\", \"2\") \\\n",
    "    .config(\"spark.driver.cores\", \"1\") \\\n",
    "    .getOrCreate()\n",
    "\n",
    "\n",
    "\n",
    "print(\"Driver Memory:\", spark.conf.get(\"spark.driver.memory\"))\n",
    "print(\"Executor Memory:\", spark.conf.get(\"spark.executor.memory\"))\n",
    "print(\"Executor Cores:\", spark.conf.get(\"spark.executor.cores\"))\n",
    "\n",
    "\n",
    "data = [(1, \"Alice\"), (2, \"Bob\"), (3, \"Cathy\"), (4, \"David\")]\n",
    "df = spark.createDataFrame(data, [\"id\", \"name\"])\n",
    "\n",
    "df_grouped = df.groupBy(\"name\").count()\n",
    "df_grouped.show()\n",
    "\n",
    "spark.stop()\n",
    "\n"
   ]
  },
  {
   "cell_type": "code",
   "execution_count": 2,
   "id": "cdfb76c4",
   "metadata": {},
   "outputs": [
    {
     "name": "stdout",
     "output_type": "stream",
     "text": [
      "Driver Memory: 1g\n",
      "Executor Memory: 2g\n",
      "Executor Cores: 2\n",
      "+-----+-----+\n",
      "| name|count|\n",
      "+-----+-----+\n",
      "|Alice|    1|\n",
      "|  Bob|    1|\n",
      "|Cathy|    1|\n",
      "|David|    1|\n",
      "+-----+-----+\n",
      "\n"
     ]
    }
   ],
   "source": [
    "\n",
    "from pyspark.sql import SparkSession\n",
    "\n",
    "spark_builder = SparkSession.builder \\\n",
    "    .appName(\"Driver vs Executor Config Example\") \\\n",
    "    .config(\"spark.driver.memory\", \"1g\") \\\n",
    "    .config(\"spark.executor.memory\", \"2g\") \\\n",
    "    .config(\"spark.executor.cores\", \"2\") \\\n",
    "    .config(\"spark.driver.cores\", \"1\")\n",
    "\n",
    "spark = spark_builder.getOrCreate()\n",
    "\n",
    "print(\"Driver Memory:\", spark.conf.get(\"spark.driver.memory\"))\n",
    "print(\"Executor Memory:\", spark.conf.get(\"spark.executor.memory\"))\n",
    "print(\"Executor Cores:\", spark.conf.get(\"spark.executor.cores\"))\n",
    "\n",
    "\n",
    "data = [(1, \"Alice\"), (2, \"Bob\"), (3, \"Cathy\"), (4, \"David\")]\n",
    "df = spark.createDataFrame(data, [\"id\", \"name\"])\n",
    "\n",
    "df_grouped = df.groupBy(\"name\").count()\n",
    "df_grouped.show()\n",
    "\n",
    "spark.stop()\n",
    "\n"
   ]
  },
  {
   "cell_type": "code",
   "execution_count": null,
   "id": "9b1d3f05",
   "metadata": {},
   "outputs": [],
   "source": []
  }
 ],
 "metadata": {
  "kernelspec": {
   "display_name": "env",
   "language": "python",
   "name": "python3"
  },
  "language_info": {
   "codemirror_mode": {
    "name": "ipython",
    "version": 3
   },
   "file_extension": ".py",
   "mimetype": "text/x-python",
   "name": "python",
   "nbconvert_exporter": "python",
   "pygments_lexer": "ipython3",
   "version": "3.10.11"
  }
 },
 "nbformat": 4,
 "nbformat_minor": 5
}
