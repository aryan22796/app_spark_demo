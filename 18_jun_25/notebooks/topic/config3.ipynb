{
 "cells": [
  {
   "cell_type": "code",
   "execution_count": null,
   "id": "7f25b4e0",
   "metadata": {},
   "outputs": [
    {
     "name": "stdout",
     "output_type": "stream",
     "text": [
      "+---+-------+\n",
      "|key|  count|\n",
      "+---+-------+\n",
      "| 26| 999999|\n",
      "| 29|1000000|\n",
      "| 65|1000000|\n",
      "| 19| 999999|\n",
      "| 54|1000000|\n",
      "|  0|1000001|\n",
      "| 22|1000000|\n",
      "|  7|1000000|\n",
      "| 77|1000000|\n",
      "| 34| 999999|\n",
      "| 50|1000000|\n",
      "| 94|1000000|\n",
      "| 57|1000000|\n",
      "| 32|1000000|\n",
      "| 43|1000000|\n",
      "| 84|1000001|\n",
      "| 31|1000000|\n",
      "| 39|1000000|\n",
      "| 98|1000000|\n",
      "| 25| 999999|\n",
      "+---+-------+\n",
      "only showing top 20 rows\n",
      "\n"
     ]
    }
   ],
   "source": [
    "\n",
    "from pyspark.sql import SparkSession\n",
    "\n",
    "\n",
    "spark_builder = SparkSession.builder \\\n",
    "    .appName(\"Driver vs Executor Config - 100GB Data\") \\\n",
    "    .config(\"spark.driver.memory\", \"16g\") \\\n",
    "    .config(\"spark.executor.memory\", \"30g\") \\\n",
    "    .config(\"spark.executor.cores\", \"5\") \\\n",
    "    .config(\"spark.driver.cores\", \"4\") \\\n",
    "    .config(\"spark.sql.shuffle.partitions\", \"200\")  # Optimize shuffling for large data\n",
    "\n",
    "spark = spark_builder.getOrCreate()\n",
    "\n",
    "\n",
    "from pyspark.sql.functions import monotonically_increasing_id\n",
    "\n",
    "# Simulate large dataset with 100 million rows (approx 100GB when using multiple columns)\n",
    "large_df = spark.range(0, 100_000_000).withColumn(\"id\", monotonically_increasing_id())\n",
    "\n",
    "# Example transformation to test executor performance\n",
    "result = large_df.selectExpr(\"id % 100 as key\").groupBy(\"key\").count()\n",
    "result.show()\n",
    "\n",
    "# ------------------------------\n",
    "# Stop the Spark session\n",
    "spark.stop()\n"
   ]
  },
  {
   "cell_type": "code",
   "execution_count": null,
   "id": "51ef12f3",
   "metadata": {},
   "outputs": [],
   "source": [
    "from pyspark.sql import SparkSession\n",
    "\n",
    "spark = SparkSession.builder \\\n",
    "    .appName(\"Spark with HDFS\") \\\n",
    "    .master(\"local[*]\") \\\n",
    "    .config(\"spark.hadoop.fs.defaultFS\", \"hdfs://localhost:9000\") \\\n",
    "    .config(\"spark.driver.memory\", \"4g\") \\\n",
    "    .config(\"spark.executor.memory\", \"4g\") \\\n",
    "    .getOrCreate()\n",
    "\n",
    "# Confirm HDFS access\n",
    "df = spark.read.text(\"hdfs://localhost:9000/input/myfile.txt\")\n",
    "df.show()\n",
    "from pyspark.sql import SparkSession\n",
    "spark = SparkSession.builder.appName(\"MyApp\").getOrCreate()\n",
    "spark._jvm.org.apache.hadoop.fs.FileSystem.get(\n",
    "    spark._jsc.hadoopConfiguration()\n",
    ").listStatus(\n",
    "    spark._jvm.org.apache.hadoop.fs.Path(\"hdfs://localhost:9000\")\n",
    ")\n",
    "\n",
    "\n"
   ]
  },
  {
   "cell_type": "code",
   "execution_count": null,
   "id": "a12b25c9",
   "metadata": {},
   "outputs": [],
   "source": []
  },
  {
   "cell_type": "code",
   "execution_count": null,
   "id": "e9d2de92",
   "metadata": {},
   "outputs": [
    {
     "name": "stdout",
     "output_type": "stream",
     "text": [
      "\n",
      "===> Static Spark Session Started\n",
      "+-----+\n",
      "|value|\n",
      "+-----+\n",
      "|    0|\n",
      "|    2|\n",
      "|    4|\n",
      "|    6|\n",
      "|    8|\n",
      "+-----+\n",
      "only showing top 5 rows\n",
      "\n",
      "\n",
      "===> Dynamic Spark Session Started\n",
      "+--------+\n",
      "|   count|\n",
      "+--------+\n",
      "|50000000|\n",
      "+--------+\n",
      "\n"
     ]
    }
   ],
   "source": [
    "\n",
    "from pyspark.sql import SparkSession\n",
    "\n",
    "spark_static = (\n",
    "    SparkSession.builder\n",
    "    .appName(\"StaticConfigExample\")\n",
    "    .config(\"spark.executor.cores\", \"4\")\n",
    "    .config(\"spark.executor.memory\", \"8g\")\n",
    "    .config(\"spark.executor.memoryOverhead\", \"2g\")\n",
    "    .getOrCreate()\n",
    ")\n",
    "\n",
    "print(\"\\n===> Static Spark Session Started\")\n",
    "spark_static.range(100000000).selectExpr(\"id * 2 as value\").show(5)\n",
    "spark_static.stop()\n",
    "\n",
    "spark_dynamic = (\n",
    "    SparkSession.builder\n",
    "    .appName(\"DynamicAllocationExample\")\n",
    "    .config(\"spark.dynamicAllocation.enabled\", \"true\")\n",
    "    .config(\"spark.dynamicAllocation.minExecutors\", \"2\")\n",
    "    .config(\"spark.dynamicAllocation.maxExecutors\", \"10\")\n",
    "    .config(\"spark.dynamicAllocation.initialExecutors\", \"4\")\n",
    "    .config(\"spark.shuffle.service.enabled\", \"true\")\n",
    "    .getOrCreate()\n",
    ")\n",
    "\n",
    "print(\"\\n===> Dynamic Spark Session Started\")\n",
    "spark_dynamic.range(50000000).repartition(200).groupBy().count().show()\n",
    "spark_dynamic.stop()\n",
    "\n"
   ]
  },
  {
   "cell_type": "code",
   "execution_count": null,
   "id": "e91ab81b",
   "metadata": {},
   "outputs": [],
   "source": []
  }
 ],
 "metadata": {
  "kernelspec": {
   "display_name": "env",
   "language": "python",
   "name": "python3"
  },
  "language_info": {
   "codemirror_mode": {
    "name": "ipython",
    "version": 3
   },
   "file_extension": ".py",
   "mimetype": "text/x-python",
   "name": "python",
   "nbconvert_exporter": "python",
   "pygments_lexer": "ipython3",
   "version": "3.10.11"
  }
 },
 "nbformat": 4,
 "nbformat_minor": 5
}
